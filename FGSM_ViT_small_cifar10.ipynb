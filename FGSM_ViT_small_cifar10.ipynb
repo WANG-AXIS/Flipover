{
 "cells": [
  {
   "cell_type": "code",
   "execution_count": 24,
   "metadata": {},
   "outputs": [],
   "source": [
    "from __future__ import print_function\n",
    "\n",
    "import torch\n",
    "import torch.nn as nn\n",
    "import torch.optim as optim\n",
    "import torch.nn.functional as F\n",
    "import torch.backends.cudnn as cudnn\n",
    "import numpy as np\n",
    "\n",
    "import torchvision\n",
    "import torchvision.transforms as transforms\n",
    "\n",
    "import os\n",
    "import argparse\n",
    "import pandas as pd\n",
    "import csv\n",
    "import time\n",
    "\n",
    "from models import *\n",
    "from utils import progress_bar\n",
    "from randomaug import RandAugment\n",
    "from models.vit import ViT\n",
    "from models.convmixer import ConvMixer"
   ]
  },
  {
   "cell_type": "code",
   "execution_count": 25,
   "metadata": {},
   "outputs": [],
   "source": [
    "size = 32\n",
    "transform_train = transforms.Compose([\n",
    "    transforms.RandomCrop(32, padding=4),\n",
    "    transforms.Resize(size),\n",
    "    transforms.RandomHorizontalFlip(),\n",
    "    transforms.ToTensor(),\n",
    "    transforms.Normalize((0.4914, 0.4822, 0.4465), (0.2023, 0.1994, 0.2010)),\n",
    "])\n",
    "\n",
    "transform_test = transforms.Compose([\n",
    "    transforms.Resize(size),\n",
    "    transforms.ToTensor(),\n",
    "    transforms.Normalize((0.4914, 0.4822, 0.4465), (0.2023, 0.1994, 0.2010)),\n",
    "])\n",
    "\n",
    "# Add RandAugment with N, M(hyperparameter)\n",
    "aug = True\n",
    "if aug:  \n",
    "    N = 2; M = 14;\n",
    "    transform_train.transforms.insert(0, RandAugment(N, M))\n",
    "\n",
    "# Prepare dataset\n",
    "trainset = torchvision.datasets.CIFAR10(root='../../data', train=True, download=False, transform=transform_train)\n",
    "trainloader = torch.utils.data.DataLoader(trainset, batch_size=100, shuffle=True, num_workers=8)\n",
    "\n",
    "testset = torchvision.datasets.CIFAR10(root='../../data', train=False, download=False, transform=transform_test)\n",
    "test_dataloader = torch.utils.data.DataLoader(testset, batch_size=100, shuffle=False, num_workers=8)\n",
    "\n",
    "classes = ('plane', 'car', 'bird', 'cat', 'deer', 'dog', 'frog', 'horse', 'ship', 'truck')"
   ]
  },
  {
   "cell_type": "code",
   "execution_count": 26,
   "metadata": {},
   "outputs": [],
   "source": [
    "test_model = 'flipover'\n",
    "# test_model = 'vanilla'\n",
    "if test_model == 'vanilla':\n",
    "    from models.vit_small import ViT\n",
    "    dropout_scale = 0.1\n",
    "else: \n",
    "    from models.vit_small_flip_att import ViT\n",
    "    dropout_scale = 0.2\n",
    "network = ViT(\n",
    "    image_size = size,\n",
    "    patch_size = 4,\n",
    "    num_classes = 10,\n",
    "    dim = int(512),\n",
    "    depth = 6,\n",
    "    heads = 8,\n",
    "    mlp_dim = 512,\n",
    "    dropout = 0.1,\n",
    "    emb_dropout = 0.1)\n",
    "network = nn.DataParallel(network)\n"
   ]
  },
  {
   "cell_type": "code",
   "execution_count": 27,
   "metadata": {},
   "outputs": [
    {
     "name": "stdout",
     "output_type": "stream",
     "text": [
      "epsilon=0.03 acc_adv: 37.7% \n"
     ]
    },
    {
     "ename": "",
     "evalue": "",
     "output_type": "error",
     "traceback": [
      "\u001b[1;31mThe Kernel crashed while executing code in the the current cell or a previous cell. Please review the code in the cell(s) to identify a possible cause of the failure. Click <a href='https://aka.ms/vscodeJupyterKernelCrash'>here</a> for more info. View Jupyter <a href='command:jupyter.viewOutput'>log</a> for further details."
     ]
    }
   ],
   "source": [
    "device = 'cuda:0' if torch.cuda.is_available() else 'cpu'\n",
    "# checkpoint = torch.load('./checkpoint/vit_small-4-vanilla-ckpt.t7')\n",
    "checkpoint = torch.load('./checkpoint/vit_small_flip_att-4-vanilla-ckpt.t7')  # Adjust the name accordingly\n",
    "network.load_state_dict(checkpoint['model'])\n",
    "network.to(device)\n",
    "positive = 0\n",
    "negative = 0\n",
    "network.eval()\n",
    "# for epsilon in eps:\n",
    "epsilon = 0.03\n",
    "loss_fn = nn.CrossEntropyLoss() \n",
    "for X, y in test_dataloader:\n",
    "    X, y = X.to(device), y.to(device)\n",
    "    X.requires_grad = True\n",
    "    pred = network(X)\n",
    "    network.zero_grad()\n",
    "    loss = loss_fn(pred, y)\n",
    "    loss.backward()\n",
    "    X = X + epsilon * X.grad.sign()\n",
    "    X_adv = torch.clamp(X, 0, 1)\n",
    "    pred = network(X_adv)\n",
    "    pred = F.softmax(pred, dim = 1)\n",
    "    for item in zip(pred, y):\n",
    "        if torch.argmax(item[0]) == item[1]:\n",
    "            positive += 1\n",
    "        else:\n",
    "            negative += 1\n",
    "\n",
    "acc_adv = positive / (positive + negative)\n",
    "print(f\"epsilon={epsilon} acc_adv: {acc_adv * 100}% \")"
   ]
  },
  {
   "cell_type": "code",
   "execution_count": null,
   "metadata": {},
   "outputs": [],
   "source": []
  }
 ],
 "metadata": {
  "kernelspec": {
   "display_name": "python==3.9",
   "language": "python",
   "name": "python3"
  },
  "language_info": {
   "codemirror_mode": {
    "name": "ipython",
    "version": 3
   },
   "file_extension": ".py",
   "mimetype": "text/x-python",
   "name": "python",
   "nbconvert_exporter": "python",
   "pygments_lexer": "ipython3",
   "version": "3.9.18"
  },
  "orig_nbformat": 4
 },
 "nbformat": 4,
 "nbformat_minor": 2
}
